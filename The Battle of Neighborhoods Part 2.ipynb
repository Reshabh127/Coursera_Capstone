{
 "cells": [
  {
   "cell_type": "code",
   "execution_count": 1,
   "metadata": {},
   "outputs": [
    {
     "name": "stdout",
     "output_type": "stream",
     "text": [
      "Collecting xlrd\n",
      "\u001b[?25l  Downloading https://files.pythonhosted.org/packages/b0/16/63576a1a001752e34bf8ea62e367997530dc553b689356b9879339cf45a4/xlrd-1.2.0-py2.py3-none-any.whl (103kB)\n",
      "\u001b[K     |████████████████████████████████| 112kB 18.2MB/s eta 0:00:01\n",
      "\u001b[?25hInstalling collected packages: xlrd\n",
      "Successfully installed xlrd-1.2.0\n"
     ]
    }
   ],
   "source": [
    "import pandas as pd \n",
    "import numpy as np\n",
    "!pip install xlrd"
   ]
  },
  {
   "cell_type": "code",
   "execution_count": 2,
   "metadata": {},
   "outputs": [
    {
     "data": {
      "text/html": [
       "<div>\n",
       "<style scoped>\n",
       "    .dataframe tbody tr th:only-of-type {\n",
       "        vertical-align: middle;\n",
       "    }\n",
       "\n",
       "    .dataframe tbody tr th {\n",
       "        vertical-align: top;\n",
       "    }\n",
       "\n",
       "    .dataframe thead th {\n",
       "        text-align: right;\n",
       "    }\n",
       "</style>\n",
       "<table border=\"1\" class=\"dataframe\">\n",
       "  <thead>\n",
       "    <tr style=\"text-align: right;\">\n",
       "      <th></th>\n",
       "      <th>Postalcode</th>\n",
       "      <th>Neighborhood</th>\n",
       "      <th>latitude</th>\n",
       "      <th>longitude</th>\n",
       "    </tr>\n",
       "  </thead>\n",
       "  <tbody>\n",
       "    <tr>\n",
       "      <th>0</th>\n",
       "      <td>110006</td>\n",
       "      <td>Chandni Chowk</td>\n",
       "      <td>28.6505</td>\n",
       "      <td>77.2303</td>\n",
       "    </tr>\n",
       "    <tr>\n",
       "      <th>1</th>\n",
       "      <td>110006</td>\n",
       "      <td>Chawri Bazaar</td>\n",
       "      <td>28.6482</td>\n",
       "      <td>77.2270</td>\n",
       "    </tr>\n",
       "    <tr>\n",
       "      <th>2</th>\n",
       "      <td>110007</td>\n",
       "      <td>Kamla Nagar</td>\n",
       "      <td>28.6809</td>\n",
       "      <td>77.2046</td>\n",
       "    </tr>\n",
       "    <tr>\n",
       "      <th>3</th>\n",
       "      <td>110054</td>\n",
       "      <td>Kashmiri Gate</td>\n",
       "      <td>28.6665</td>\n",
       "      <td>77.2333</td>\n",
       "    </tr>\n",
       "    <tr>\n",
       "      <th>4</th>\n",
       "      <td>110005</td>\n",
       "      <td>Karol Bagh</td>\n",
       "      <td>28.6550</td>\n",
       "      <td>77.1888</td>\n",
       "    </tr>\n",
       "  </tbody>\n",
       "</table>\n",
       "</div>"
      ],
      "text/plain": [
       "   Postalcode   Neighborhood  latitude  longitude\n",
       "0      110006  Chandni Chowk   28.6505    77.2303\n",
       "1      110006  Chawri Bazaar   28.6482    77.2270\n",
       "2      110007    Kamla Nagar   28.6809    77.2046\n",
       "3      110054  Kashmiri Gate   28.6665    77.2333\n",
       "4      110005     Karol Bagh   28.6550    77.1888"
      ]
     },
     "execution_count": 2,
     "metadata": {},
     "output_type": "execute_result"
    }
   ],
   "source": [
    "df = pd.read_excel('Delhi_Neighborhood.xlsx')\n",
    "df.head()"
   ]
  },
  {
   "cell_type": "code",
   "execution_count": 3,
   "metadata": {},
   "outputs": [
    {
     "name": "stdout",
     "output_type": "stream",
     "text": [
      "Solving environment: done\n",
      "\n",
      "\n",
      "==> WARNING: A newer version of conda exists. <==\n",
      "  current version: 4.5.11\n",
      "  latest version: 4.7.12\n",
      "\n",
      "Please update conda by running\n",
      "\n",
      "    $ conda update -n base -c defaults conda\n",
      "\n",
      "\n",
      "\n",
      "## Package Plan ##\n",
      "\n",
      "  environment location: /home/jupyterlab/conda/envs/python\n",
      "\n",
      "  added / updated specs: \n",
      "    - geopy\n",
      "\n",
      "\n",
      "The following packages will be downloaded:\n",
      "\n",
      "    package                    |            build\n",
      "    ---------------------------|-----------------\n",
      "    certifi-2019.11.28         |           py36_0         149 KB  conda-forge\n",
      "    scikit-learn-0.20.1        |   py36h22eb022_0         5.7 MB\n",
      "    liblapack-3.8.0            |      11_openblas          10 KB  conda-forge\n",
      "    scipy-1.3.2                |   py36h921218d_0        18.0 MB  conda-forge\n",
      "    geographiclib-1.50         |             py_0          34 KB  conda-forge\n",
      "    libopenblas-0.3.6          |       h5a2b251_2         7.7 MB\n",
      "    liblapacke-3.8.0           |      11_openblas          10 KB  conda-forge\n",
      "    numpy-1.17.3               |   py36h95a1406_0         5.2 MB  conda-forge\n",
      "    libcblas-3.8.0             |      11_openblas          10 KB  conda-forge\n",
      "    libblas-3.8.0              |      11_openblas          10 KB  conda-forge\n",
      "    geopy-1.20.0               |             py_0          57 KB  conda-forge\n",
      "    blas-2.11                  |         openblas          10 KB  conda-forge\n",
      "    ------------------------------------------------------------\n",
      "                                           Total:        36.9 MB\n",
      "\n",
      "The following NEW packages will be INSTALLED:\n",
      "\n",
      "    geographiclib: 1.50-py_0                              conda-forge\n",
      "    geopy:         1.20.0-py_0                            conda-forge\n",
      "    libblas:       3.8.0-11_openblas                      conda-forge\n",
      "    libcblas:      3.8.0-11_openblas                      conda-forge\n",
      "    liblapack:     3.8.0-11_openblas                      conda-forge\n",
      "    liblapacke:    3.8.0-11_openblas                      conda-forge\n",
      "    libopenblas:   0.3.6-h5a2b251_2                                  \n",
      "\n",
      "The following packages will be UPDATED:\n",
      "\n",
      "    blas:          1.1-openblas                           conda-forge --> 2.11-openblas         conda-forge\n",
      "    certifi:       2019.9.11-py36_0                       conda-forge --> 2019.11.28-py36_0     conda-forge\n",
      "    numpy:         1.16.2-py36_blas_openblash1522bff_0    conda-forge [blas_openblas] --> 1.17.3-py36h95a1406_0 conda-forge\n",
      "    scipy:         1.2.1-py36_blas_openblash1522bff_0     conda-forge [blas_openblas] --> 1.3.2-py36h921218d_0  conda-forge\n",
      "\n",
      "The following packages will be DOWNGRADED:\n",
      "\n",
      "    scikit-learn:  0.20.1-py36_blas_openblashebff5e3_1200 conda-forge [blas_openblas] --> 0.20.1-py36h22eb022_0            \n",
      "\n",
      "\n",
      "Downloading and Extracting Packages\n",
      "certifi-2019.11.28   | 149 KB    | ##################################### | 100% \n",
      "scikit-learn-0.20.1  | 5.7 MB    | ##################################### | 100% \n",
      "liblapack-3.8.0      | 10 KB     | ##################################### | 100% \n",
      "scipy-1.3.2          | 18.0 MB   | ##################################### | 100% \n",
      "geographiclib-1.50   | 34 KB     | ##################################### | 100% \n",
      "libopenblas-0.3.6    | 7.7 MB    | ##################################### | 100% \n",
      "liblapacke-3.8.0     | 10 KB     | ##################################### | 100% \n",
      "numpy-1.17.3         | 5.2 MB    | ##################################### | 100% \n",
      "libcblas-3.8.0       | 10 KB     | ##################################### | 100% \n",
      "libblas-3.8.0        | 10 KB     | ##################################### | 100% \n",
      "geopy-1.20.0         | 57 KB     | ##################################### | 100% \n",
      "blas-2.11            | 10 KB     | ##################################### | 100% \n",
      "Preparing transaction: done\n",
      "Verifying transaction: done\n",
      "Executing transaction: done\n",
      "Solving environment: done\n",
      "\n",
      "\n",
      "==> WARNING: A newer version of conda exists. <==\n",
      "  current version: 4.5.11\n",
      "  latest version: 4.7.12\n",
      "\n",
      "Please update conda by running\n",
      "\n",
      "    $ conda update -n base -c defaults conda\n",
      "\n",
      "\n",
      "\n",
      "# All requested packages already installed.\n",
      "\n",
      "Libraries imported.\n"
     ]
    }
   ],
   "source": [
    "import pandas as pd # library for data analsysis\n",
    "pd.set_option('display.max_columns', None)\n",
    "pd.set_option('display.max_rows', None)\n",
    "\n",
    "import json # library to handle JSON files\n",
    "\n",
    "!conda install -c conda-forge geopy --yes # uncomment this line if you haven't completed the Foursquare API lab\n",
    "from geopy.geocoders import Nominatim # convert an address into latitude and longitude values\n",
    "\n",
    "import requests # library to handle requests\n",
    "from pandas.io.json import json_normalize # tranform JSON file into a pandas dataframe\n",
    "\n",
    "# Matplotlib and associated plotting modules\n",
    "import matplotlib.cm as cm\n",
    "import matplotlib.colors as colors\n",
    "\n",
    "# import k-means from clustering stage\n",
    "from sklearn.cluster import KMeans\n",
    "\n",
    "!conda install -c conda-forge folium=0.5.0 --yes # uncomment this line if you haven't completed the Foursquare API lab\n",
    "import folium # map rendering library\n",
    "\n",
    "print('Libraries imported.')"
   ]
  },
  {
   "cell_type": "markdown",
   "metadata": {},
   "source": [
    "## Lets get the latitude and longitude of Delhi to draw a map first."
   ]
  },
  {
   "cell_type": "code",
   "execution_count": 4,
   "metadata": {},
   "outputs": [
    {
     "name": "stdout",
     "output_type": "stream",
     "text": [
      "The geograpical coordinate of Delhi are 28.6517178, 77.2219388.\n"
     ]
    }
   ],
   "source": [
    "address = 'Delhi, India'\n",
    "\n",
    "geolocator = Nominatim(user_agent=\"Delhi_explorer\")\n",
    "location = geolocator.geocode(address)\n",
    "latitude = location.latitude\n",
    "longitude = location.longitude\n",
    "print('The geograpical coordinate of Delhi are {}, {}.'.format(latitude, longitude))"
   ]
  },
  {
   "cell_type": "markdown",
   "metadata": {},
   "source": [
    "## Create a map of Delhi with neighborhoods superimposed on top."
   ]
  },
  {
   "cell_type": "code",
   "execution_count": 10,
   "metadata": {},
   "outputs": [
    {
     "data": {
      "text/html": [
       "<div style=\"width:100%;\"><div style=\"position:relative;width:100%;height:0;padding-bottom:60%;\"><iframe src=\"data:text/html;charset=utf-8;base64,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\" style=\"position:absolute;width:100%;height:100%;left:0;top:0;border:none !important;\" allowfullscreen webkitallowfullscreen mozallowfullscreen></iframe></div></div>"
      ],
      "text/plain": [
       "<folium.folium.Map at 0x7f4a8ea0e550>"
      ]
     },
     "execution_count": 10,
     "metadata": {},
     "output_type": "execute_result"
    }
   ],
   "source": [
    "map_Delhi = folium.Map(location=[latitude, longitude], zoom_start=10)\n",
    "\n",
    "# add markers to map\n",
    "for lat, lng, postalcode, neighborhood in zip(df['latitude'], df['longitude'], df['Postalcode'], df['Neighborhood']):\n",
    "    label = '{}, {}'.format(neighborhood, postalcode)\n",
    "    label = folium.Popup(label, parse_html=True)\n",
    "    folium.CircleMarker(\n",
    "        [lat, lng],\n",
    "        radius=5,\n",
    "        popup=label,\n",
    "        color='blue',\n",
    "        fill=True,\n",
    "        fill_color='#3186cc',\n",
    "        fill_opacity=0.7).add_to(map_Delhi)  \n",
    "    \n",
    "map_Delhi"
   ]
  },
  {
   "cell_type": "markdown",
   "metadata": {},
   "source": [
    "## Use Define Foursquare Credentials and Version"
   ]
  },
  {
   "cell_type": "code",
   "execution_count": 11,
   "metadata": {},
   "outputs": [
    {
     "name": "stdout",
     "output_type": "stream",
     "text": [
      "Your credentails:\n",
      "CLIENT_ID: HUDBNWSLCX5E2WPPJCPHWJC2Z5QXEGGUPLW44DQFAI3XNHGI\n",
      "CLIENT_SECRET:ZUEL0EWB1F50JH5LMWMTATNKHKBOBLR0L1IZSHERK5MPDEHU\n"
     ]
    }
   ],
   "source": [
    "\n",
    "# define Foursquare Credentials and Version\n",
    "CLIENT_ID = 'HUDBNWSLCX5E2WPPJCPHWJC2Z5QXEGGUPLW44DQFAI3XNHGI' # your Foursquare ID\n",
    "CLIENT_SECRET = 'ZUEL0EWB1F50JH5LMWMTATNKHKBOBLR0L1IZSHERK5MPDEHU' # your Foursquare Secret\n",
    "VERSION = '20191206' # Foursquare API version\n",
    "\n",
    "print('Your credentails:')\n",
    "print('CLIENT_ID: ' + CLIENT_ID)\n",
    "print('CLIENT_SECRET:' + CLIENT_SECRET)"
   ]
  },
  {
   "cell_type": "markdown",
   "metadata": {},
   "source": [
    "## Let's explore the first neighborhood in our dataframe"
   ]
  },
  {
   "cell_type": "code",
   "execution_count": 12,
   "metadata": {},
   "outputs": [
    {
     "data": {
      "text/plain": [
       "'Chandni Chowk'"
      ]
     },
     "execution_count": 12,
     "metadata": {},
     "output_type": "execute_result"
    }
   ],
   "source": [
    "df.loc[0, 'Neighborhood']"
   ]
  },
  {
   "cell_type": "code",
   "execution_count": null,
   "metadata": {},
   "outputs": [],
   "source": []
  }
 ],
 "metadata": {
  "kernelspec": {
   "display_name": "Python",
   "language": "python",
   "name": "conda-env-python-py"
  },
  "language_info": {
   "codemirror_mode": {
    "name": "ipython",
    "version": 3
   },
   "file_extension": ".py",
   "mimetype": "text/x-python",
   "name": "python",
   "nbconvert_exporter": "python",
   "pygments_lexer": "ipython3",
   "version": "3.6.7"
  }
 },
 "nbformat": 4,
 "nbformat_minor": 4
}
