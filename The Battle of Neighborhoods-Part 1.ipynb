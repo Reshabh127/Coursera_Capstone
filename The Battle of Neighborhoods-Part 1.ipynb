{
    "cells": [
        {
            "cell_type": "markdown",
            "metadata": {},
            "source": "# _The Battle of Neighborhoods (Part 1)_"
        },
        {
            "cell_type": "markdown",
            "metadata": {
                "collapsed": true
            },
            "source": "# _**A description of the problem and a discussion of the background.**_"
        },
        {
            "cell_type": "markdown",
            "metadata": {},
            "source": "**Problem**:- _In this project, I am going to resolve my friend's problem who wants to open a **'Badminton Academy'** in **Delhi**, the National Capital of India.                           As I am a badminton player therefore, He asked me about the place **where** He should open his badminton academy in Delhi so that He'll get lot of badminton                   players to learn in his academy._"
        },
        {
            "cell_type": "markdown",
            "metadata": {},
            "source": "# _**A description of the data and how it will be used to solve the problem.**_"
        },
        {
            "cell_type": "markdown",
            "metadata": {},
            "source": "**Description**:- _In this project, I am going to use an excel file which have the **'Geographical Data'** of Delhi(i.e. Postal Codes, Neighborhoods, Latitude, Longitude).                       I extracted this data from the internet. With the Help of **'Foursquare API'** and this **'Geographic Data'**, I'll analyze each Neighborhood and its                         Venues and will find some suitable place to start a badminton acedemy. As per my understanding, badminton is a kind of soprt which is played by almost all                     age group category. Here we'll analyze those kind of venues where we'll get all age group category peoples. It may be somewhere nearby sports complexes,                       colleges, colonies, parks etc._"
        },
        {
            "cell_type": "code",
            "execution_count": null,
            "metadata": {},
            "outputs": [],
            "source": ""
        }
    ],
    "metadata": {
        "kernelspec": {
            "display_name": "Python 3.6",
            "language": "python",
            "name": "python3"
        },
        "language_info": {
            "codemirror_mode": {
                "name": "ipython",
                "version": 3
            },
            "file_extension": ".py",
            "mimetype": "text/x-python",
            "name": "python",
            "nbconvert_exporter": "python",
            "pygments_lexer": "ipython3",
            "version": "3.6.8"
        }
    },
    "nbformat": 4,
    "nbformat_minor": 1
}